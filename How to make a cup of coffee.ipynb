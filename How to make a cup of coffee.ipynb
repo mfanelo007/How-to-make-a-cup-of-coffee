{
  "metadata": {
    "kernelspec": {
      "name": "python",
      "display_name": "Python (Pyodide)",
      "language": "python"
    },
    "language_info": {
      "codemirror_mode": {
        "name": "python",
        "version": 3
      },
      "file_extension": ".py",
      "mimetype": "text/x-python",
      "name": "python",
      "nbconvert_exporter": "python",
      "pygments_lexer": "ipython3",
      "version": "3.8"
    }
  },
  "nbformat_minor": 4,
  "nbformat": 4,
  "cells": [
    {
      "cell_type": "markdown",
      "source": "# How I make a cup of coffee\n## Ingredients\n1. Nescafe coffee\n2. Boiling water\n3. Brown sugar\n## How to make\n1. Put 1 teaspoon of Nescafe coffe and 3 teaspoons of brown sugar in to a mug\n2. Boil water in a kettle\n3. Pour the boiling water in to the mug and stir\n# Bon appetit motherfuckers!\n",
      "metadata": {}
    },
    {
      "cell_type": "markdown",
      "source": "",
      "metadata": {}
    },
    {
      "cell_type": "code",
      "source": "",
      "metadata": {
        "trusted": true
      },
      "outputs": [],
      "execution_count": null
    }
  ]
}